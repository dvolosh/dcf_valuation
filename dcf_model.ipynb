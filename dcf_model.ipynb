{
 "cells": [
  {
   "cell_type": "markdown",
   "metadata": {},
   "source": [
    "# Introduction. Discounted cash flow (DCF) \n",
    "DCF is a method of valuation used to determine the value of an investment based on future cash flows\n",
    "First, we will walkthrough the valution, and then make a function to automate the process for any stock\n"
   ]
  },
  {
   "cell_type": "code",
   "execution_count": 1,
   "metadata": {},
   "outputs": [],
   "source": [
    "import yfinance as yf\n",
    "#importing yfinance library for access to Yahoo Finance API to pull data for our calculations"
   ]
  },
  {
   "cell_type": "code",
   "execution_count": 2,
   "metadata": {},
   "outputs": [],
   "source": [
    "goog = yf.Ticker(\"goog\") # Pick a stock\n",
    "outstandingshares = goog.info['sharesOutstanding']  # Needed for future calculation"
   ]
  },
  {
   "cell_type": "code",
   "execution_count": 3,
   "metadata": {},
   "outputs": [],
   "source": [
    "required_rate = 0.07 # Minimum return an investor will accept for owning a company's stock as compensation for a given level of risk associated with holding the stock\n",
    "perpetual_rate = 0.03 # Same as terminal growth rate. The expected future revenue of the company\n",
    "cash_flow_growth_rate = 0.02 \n",
    "years = [4, 3, 2, 1]\n",
    "free_cash_flow = [30972000, 42843000, 67012000, 60010000] # Data from finance yahoo 2022-2019 reverse order in thousand of $\n",
    "# We will later create a scraping algorithm to get company's cashflow"
   ]
  },
  {
   "cell_type": "code",
   "execution_count": 4,
   "metadata": {},
   "outputs": [],
   "source": [
    "future_cash_flow = [] # Cashflow forecast\n",
    "discount_factor = [] # Interest rate which determines the present value of future cash flows \n",
    "dcf = [] # Discountedfuturecashflow\n",
    "terminal_value = free_cash_flow[-1] * (1+perpetual_rate)/(required_rate-perpetual_rate)\n",
    "# Termival value is the estimated value of a business beyond the forecasting period"
   ]
  },
  {
   "cell_type": "code",
   "execution_count": 5,
   "metadata": {},
   "outputs": [],
   "source": [
    "for year in years:\n",
    "    cashflow = free_cash_flow[-1] * (1+cash_flow_growth_rate)**year\n",
    "    future_cash_flow.append(cashflow)\n",
    "    discount_factor.append((1+required_rate)**year)\n"
   ]
  },
  {
   "cell_type": "code",
   "execution_count": 6,
   "metadata": {},
   "outputs": [],
   "source": [
    "for i in range(0, len(years)):\n",
    "    dcf.append(future_cash_flow[i]/discount_factor[i])"
   ]
  },
  {
   "cell_type": "code",
   "execution_count": 7,
   "metadata": {},
   "outputs": [
    {
     "data": {
      "text/plain": [
       "237.0"
      ]
     },
     "execution_count": 7,
     "metadata": {},
     "output_type": "execute_result"
    }
   ],
   "source": [
    "discounted_terminal_value = terminal_value / (1+required_rate)**4\n",
    "dcf.append(discounted_terminal_value)\n",
    "current_value = sum(dcf)\n",
    "intrinsic_value = current_value * 1000 / outstandingshares\n",
    "round(intrinsic_value,2)"
   ]
  },
  {
   "cell_type": "markdown",
   "metadata": {},
   "source": [
    "Curent value of the stock is 132$. Lets readjust our assumptions based of Morgan Stanley report "
   ]
  },
  {
   "cell_type": "code",
   "execution_count": 8,
   "metadata": {},
   "outputs": [],
   "source": [
    "#readjusted assumptions\n",
    "revenue_growth = 0.03\n",
    "wacc = 0.078\n",
    "terminal_growth_rate = 0.025"
   ]
  },
  {
   "cell_type": "code",
   "execution_count": 9,
   "metadata": {},
   "outputs": [],
   "source": [
    "# Stock name -- stock's ticker\n",
    "# Future cash flow growth rate -- our assumption\n",
    "# WACC (Weighted average cost of capital) -- Same as the discount rate. We will use wacc as the required rate \n",
    "def dcf_valuation(stock_name: str, future_cash_flow_growth_rate: float, terminal_growth_rate: float, wacc: float):\n",
    "    stock = yf.Ticker(stock_name) \n",
    "    outstandingshares = stock.info['sharesOutstanding'] \n",
    "    free_cash_flow_list = [] \n",
    "    for i in range(len(stock.cashflow.loc['Free Cash Flow'])):    # a loop created to get the data into a list from pandas data frame                  \n",
    "        free_cash_flow_list.append(stock.cashflow.loc['Free Cash Flow'][i])\n",
    "    free_cash_flow_list.reverse() #from oldest to newest\n",
    "    terminal_value = free_cash_flow_list[-1] * (1+terminal_growth_rate)/(wacc-terminal_growth_rate)\n",
    "    years = [1, 2, 3, 4]\n",
    "    future_cash_flow = []\n",
    "    discount_factor = []\n",
    "    dcf = [] \n",
    "    for year in years:\n",
    "        cashflow = free_cash_flow_list[-1] * (1+future_cash_flow_growth_rate)**year\n",
    "        future_cash_flow.append(cashflow)\n",
    "        discount_factor.append((1+wacc)**year)\n",
    "    for i in range(0, len(years)):\n",
    "        dcf.append(future_cash_flow[i]/discount_factor[i])\n",
    "    discounted_terminal_value = terminal_value / (1+wacc)**4\n",
    "    dcf.append(discounted_terminal_value)\n",
    "    current_value = sum(dcf)\n",
    "    intrinsic_value = current_value / outstandingshares\n",
    "    return f'{round(intrinsic_value,2)}$'\n",
    "    \n",
    "    \n",
    "\n",
    "    \n"
   ]
  },
  {
   "cell_type": "code",
   "execution_count": 10,
   "metadata": {},
   "outputs": [
    {
     "data": {
      "text/plain": [
       "'184.59$'"
      ]
     },
     "execution_count": 10,
     "metadata": {},
     "output_type": "execute_result"
    }
   ],
   "source": [
    "dcf_valuation('goog', 0.05, 0.025, 0.078)"
   ]
  }
 ],
 "metadata": {
  "kernelspec": {
   "display_name": "Python 3",
   "language": "python",
   "name": "python3"
  },
  "language_info": {
   "codemirror_mode": {
    "name": "ipython",
    "version": 3
   },
   "file_extension": ".py",
   "mimetype": "text/x-python",
   "name": "python",
   "nbconvert_exporter": "python",
   "pygments_lexer": "ipython3",
   "version": "3.10.6"
  },
  "orig_nbformat": 4
 },
 "nbformat": 4,
 "nbformat_minor": 2
}
